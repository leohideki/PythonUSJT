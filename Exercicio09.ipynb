{
 "cells": [
  {
   "cell_type": "markdown",
   "metadata": {},
   "source": [
    "### Exercicio 09\n",
    "**Nome**:Leonardo Hideki Itihara <br>\n",
    "**RA**: 817111922"
   ]
  },
  {
   "cell_type": "markdown",
   "metadata": {},
   "source": [
    "1 Faça um Programa que peça o raio de um círculo, calcule e mostre sua área."
   ]
  },
  {
   "cell_type": "code",
   "execution_count": 2,
   "metadata": {},
   "outputs": [
    {
     "name": "stdout",
     "output_type": "stream",
     "text": [
      "Insira o raio: 5\n",
      "Area:  78.53981633974483\n"
     ]
    }
   ],
   "source": [
    "from math import pi\n",
    "raio = float(input('Insira o raio: '))\n",
    "area = pi * raio * raio\n",
    "print('Area: ',area)\n"
   ]
  },
  {
   "cell_type": "markdown",
   "metadata": {},
   "source": [
    "2 Faça um Programa que calcule a área de um quadrado, em seguida mostre o dobro\n",
    "desta área para o usuário."
   ]
  },
  {
   "cell_type": "code",
   "execution_count": 24,
   "metadata": {},
   "outputs": [
    {
     "name": "stdout",
     "output_type": "stream",
     "text": [
      "insira o tamanho do lado: 5\n",
      "dobro da area 50.0\n"
     ]
    }
   ],
   "source": [
    "lado = float(input('insira o tamanho do lado: '))\n",
    "area =  lado * lado\n",
    "dobro = 2 * area\n",
    "print('dobro da area', dobro)"
   ]
  },
  {
   "cell_type": "markdown",
   "metadata": {},
   "source": [
    "3 Faça um Programa que pergunte quanto você ganha por hora e o número de horas\n",
    "trabalhadas no mês. Calcule e mostre o total do seu salário no referido mês."
   ]
  },
  {
   "cell_type": "code",
   "execution_count": 20,
   "metadata": {},
   "outputs": [
    {
     "name": "stdout",
     "output_type": "stream",
     "text": [
      "Insira quantas horas voce trabalha por mes: 160\n",
      "Insira quanto voce ganha por hora: 100\n",
      "Seu salário é:  16000.0\n"
     ]
    }
   ],
   "source": [
    "hora = float(input('Insira quantas horas voce trabalha por mes: '))\n",
    "ganha = float(input('Insira quanto voce ganha por hora: '))\n",
    "salario = hora * ganha\n",
    "print('Seu salário é: ', salario)"
   ]
  },
  {
   "cell_type": "markdown",
   "metadata": {},
   "source": [
    "4 Faça um Programa que peça a temperatura em graus Farenheit, transforme e\n",
    "mostre a temperatura em graus Celsius. C = (5 * (F-32) / 9)."
   ]
  },
  {
   "cell_type": "code",
   "execution_count": 30,
   "metadata": {},
   "outputs": [
    {
     "name": "stdout",
     "output_type": "stream",
     "text": [
      "Insira a temperatura em Farenheit: 89.6\n",
      "Temperatura em graus Celsius:  32.0\n"
     ]
    }
   ],
   "source": [
    "f = float(input('Insira a temperatura em Farenheit: '))\n",
    "c = (5 * (f - 32)/9)\n",
    "print('Temperatura em graus Celsius: ', c)"
   ]
  },
  {
   "cell_type": "markdown",
   "metadata": {},
   "source": [
    "5 Faça um Programa que peça a temperatura em graus Celsius, transforme e mostre\n",
    "em graus Farenheit."
   ]
  },
  {
   "cell_type": "code",
   "execution_count": 29,
   "metadata": {},
   "outputs": [
    {
     "name": "stdout",
     "output_type": "stream",
     "text": [
      "Insira a temperatura em Celsius: 32\n",
      "Temperatura em graus Farenheit:  89.6\n"
     ]
    }
   ],
   "source": [
    "c = float(input('Insira a temperatura em Celsius: '))\n",
    "f = ((9 / 5) * c) + 32\n",
    "print('Temperatura em graus Farenheit: ', f)"
   ]
  },
  {
   "cell_type": "markdown",
   "metadata": {},
   "source": [
    "6 Faça um Programa que peça 2 números inteiros e um número real. Calcule e\n",
    "mostre:\n",
    "- o produto do dobro do primeiro com metade do segundo .\n",
    "- a soma do triplo do primeiro com o terceiro.\n",
    "- o terceiro elevado ao cubo."
   ]
  },
  {
   "cell_type": "code",
   "execution_count": 32,
   "metadata": {},
   "outputs": [
    {
     "name": "stdout",
     "output_type": "stream",
     "text": [
      "Insira um numero inteiro: 2\n",
      "Insira outro numero inteiro: 2\n",
      "Insira um numero real: 2\n",
      "produto do dobro do primeiro com metado do segundo:  5.0\n",
      "soma do triplo do primeiro com o terceiro:  8.0\n",
      "terceiro elavado ao cubo:  8.0\n"
     ]
    }
   ],
   "source": [
    "a = int(input('Insira um numero inteiro: '))\n",
    "b = int(input('Insira outro numero inteiro: '))\n",
    "c = float(input('Insira um numero real: '))\n",
    "#produto do dobro do primeiro com metado do segundo\n",
    "ex01 = ((2 * a) + (b / 2))\n",
    "#soma do triplo do primeiro com o terceiro\n",
    "ex02 = ((3 * a) + c)\n",
    "#terceiro elavado ao cubo\n",
    "ex03 = c ** 3\n",
    "print('produto do dobro do primeiro com metado do segundo: ', ex01)\n",
    "print('soma do triplo do primeiro com o terceiro: ', ex02)\n",
    "print('terceiro elavado ao cubo: ', ex03)"
   ]
  },
  {
   "cell_type": "markdown",
   "metadata": {},
   "source": [
    "7 João Papo-de-Pescador, homem de bem, comprou um microcomputador para\n",
    "controlar o rendimento diário de seu trabalho. Toda vez que ele traz um peso de\n",
    "peixes maior que o estabelecido pelo regulamento de pesca do estado de São Paulo\n",
    "(50 quilos) deve pagar uma multa de R$ 4,00 por quilo excedente. João precisa que\n",
    "você faça um programa que leia a variável peso (peso de peixes) e verifique se há\n",
    "excesso. Se houver, gravar na variável excesso e na variável multa o valor da multa\n",
    "que João deverá pagar. Caso contrário mostrar tais variáveis com o conteúdo ZERO."
   ]
  },
  {
   "cell_type": "code",
   "execution_count": 34,
   "metadata": {},
   "outputs": [
    {
     "name": "stdout",
     "output_type": "stream",
     "text": [
      "Insira o peso dos peixes: 4\n",
      "Excesso de peso:  0\n",
      "Multa por quilo excedente:  0\n"
     ]
    }
   ],
   "source": [
    "peso = float(input('Insira o peso dos peixes: '))\n",
    "if peso > 50:\n",
    "    excesso = peso - 50\n",
    "    multa = excesso * 4\n",
    "    print('Excesso de peso: ',excesso)\n",
    "    print('Multa por quilo excedente: ', multa)\n",
    "else:\n",
    "    excesso = 0\n",
    "    multa = 0\n",
    "    print('Excesso de peso: ',excesso)\n",
    "    print('Multa por quilo excedente: ', multa)\n",
    "    "
   ]
  },
  {
   "cell_type": "markdown",
   "metadata": {},
   "source": [
    "8 Faça um Programa que pergunte quanto você ganha por hora e o número de horas\n",
    "trabalhadas no mês. Calcule e mostre o total do seu salário no referido mês,\n",
    "sabendo-se que são descontados 11% para o Imposto de Renda, 8% para o INSS e 5%\n",
    "para o sindicato, faça um programa que nos dê:\n",
    "- salário bruto.\n",
    "- quanto pagou ao INSS.\n",
    "- quanto pagou ao sindicato.\n",
    "- o salário líquido.\n",
    "- calcule os descontos e o salário líquido, conforme a tabela abaixo:\n",
    "+ Salário Bruto : R$\n",
    "- IR (11%) : R$\n",
    "- INSS (8%) : R$\n",
    "- Sindicato ( 5%) : R$\n",
    "= Salário Liquido : R$\n",
    "<br> Obs.: Salário Bruto - Descontos = Salário Líquido."
   ]
  },
  {
   "cell_type": "code",
   "execution_count": 6,
   "metadata": {},
   "outputs": [
    {
     "name": "stdout",
     "output_type": "stream",
     "text": [
      "Digite quantas horas voce trabalha por mes: 10\n",
      "Digite quando voce recebe por hora: 120\n",
      "Salario bruto:  1200.0\n",
      "INSS:  96.0\n",
      "Sindicato:  60.0\n",
      "Salario liquido:  912.0\n"
     ]
    }
   ],
   "source": [
    "hora = float(input('Digite quantas horas voce trabalha por mes: '))\n",
    "valor_hora = float(input('Digite quando voce recebe por hora: '))\n",
    "salario_bruto = hora * valor_hora\n",
    "imposto = salario_bruto * 0.11\n",
    "inss = salario_bruto * 0.08\n",
    "sindicato = salario_bruto * 0.05\n",
    "salario_liquido = salario_bruto - (imposto + inss + sindicato)\n",
    "print('Salario bruto: ', salario_bruto)\n",
    "print('INSS: ', inss)\n",
    "print('Sindicato: ',sindicato)\n",
    "print('Salario liquido: ', salario_liquido)\n",
    "\n"
   ]
  },
  {
   "cell_type": "markdown",
   "metadata": {},
   "source": [
    "9 Faça um programa que leia 2 strings e informe o conteúdo delas seguido do seu\n",
    "comprimento. Informe também se as duas strings possuem o mesmo comprimento e\n",
    "são iguais ou diferentes no conteúdo.\n",
    "- Exemplo:\n",
    "- String 1: Brasil Hexa 2018\n",
    "- String 2: Brasil! Hexa 2018!\n",
    "- Tamanho de \"Brasil Hexa 2018\": 16 caracteres\n",
    "- Tamanho de \"Brasil! Hexa 2018!\": 18 caracteres\n",
    "- As duas strings são de tamanhos diferentes.\n",
    "- As duas strings possuem conteúdo diferente."
   ]
  },
  {
   "cell_type": "code",
   "execution_count": 40,
   "metadata": {},
   "outputs": [
    {
     "name": "stdout",
     "output_type": "stream",
     "text": [
      "Digite uma frase: ola\n",
      "Digite outra frase: ola\n",
      "ola\n",
      "ola\n",
      "Tamanho de\" ola \": 3  caracteres\n",
      "Tamanho de ola : 3  caracteres\n",
      "As duas possuem o mesmo tamanho\n",
      "As duas strings possuem o mesmo conteudo\n"
     ]
    }
   ],
   "source": [
    "a = input('Digite uma frase: ')\n",
    "b = input('Digite outra frase: ')\n",
    "print(a)\n",
    "print(b)\n",
    "print('Tamanho de ',a,':',len(a),' caracteres' )\n",
    "print('Tamanho de',b,':',len(b),' caracteres' )\n",
    "if len(a) == len(b):\n",
    "    print('As duas possuem o mesmo tamanho')\n",
    "else:\n",
    "    print('As duas possuem o tamanho diferentes')\n",
    "if a == b:\n",
    "    print('As duas strings possuem o mesmo conteudo')\n",
    "else:\n",
    "    print('As duas strings possuem conteudos diferentes')"
   ]
  },
  {
   "cell_type": "markdown",
   "metadata": {},
   "source": [
    "10 Faça um programa que permita ao usuário digitar o seu nome e em seguida\n",
    "mostre o nome do usuário de trás para frente utilizando somente letras maiúsculas.\n",
    "Dica: lembre−se que ao informar o nome o usuário pode digitar letras maiúsculas ou\n",
    "minúsculas. Observação: não use loops."
   ]
  },
  {
   "cell_type": "code",
   "execution_count": 43,
   "metadata": {},
   "outputs": [
    {
     "name": "stdout",
     "output_type": "stream",
     "text": [
      "Digite seu nomeLeonardo Hideki Itihara\n",
      "ARAHITI IKEDIH ODRANOEL\n"
     ]
    }
   ],
   "source": [
    "nome = input('Digite seu nome')\n",
    "a = nome[::-1].upper()\n",
    "print(a)"
   ]
  },
  {
   "cell_type": "markdown",
   "metadata": {},
   "source": [
    "11 Faça um programa que solicite a data de nascimento (dd/mm/aaaa) do usuário e\n",
    "imprima a data com o nome do mês por extenso.\n",
    "Data de Nascimento: 29/10/1973\n",
    "Você nasceu em 29 de Outubro de 1973.\n",
    "Obs.: Não use desvio condicional nem loops."
   ]
  },
  {
   "cell_type": "code",
   "execution_count": 1,
   "metadata": {},
   "outputs": [
    {
     "name": "stdout",
     "output_type": "stream",
     "text": [
      "Digite sua data de nascimento: 10/04/1996\n",
      "Data de nascimento: 10 de Abril de 1996\n"
     ]
    }
   ],
   "source": [
    "data_nasc = str(input('Digite sua data de nascimento: '))\n",
    "my_dict = {1:'Janeiro', 2:'Fevereiro', 3:'Março', 4:'Abril', 5:'Maio', 6:'Junho', 7:'Julho', 8:'Agosto', \n",
    "           9:'Setembro', 10:'Outubro', 11:'Novembro', 12:'Dezembro'}\n",
    "lista = data_nasc.split('/')\n",
    "print('Data de nascimento: {} de {} de {}'.format(lista[0],my_dict[int(lista[1])],lista[2]))"
   ]
  },
  {
   "cell_type": "markdown",
   "metadata": {},
   "source": [
    "**12** Leet é uma forma de se escrever o alfabeto latino usando outros símbolos em\n",
    "lugar das letras, como números por exemplo. A própria palavra leet admite muitas\n",
    "variações, como l33t ou 1337. O uso do leet reflete uma subcultura relacionada ao\n",
    "mundo dos jogos de computador e internet, sendo muito usada para confundir os\n",
    "iniciantes e afirmar-se como parte de um grupo. Pesquise sobre as principais formas\n",
    "de traduzir as letras. Depois, faça um programa que peça uma texto e transforme-o\n",
    "para a grafia leet speak.<br>\n",
    "Desafio: não use loops nem desvios condicionais."
   ]
  },
  {
   "cell_type": "code",
   "execution_count": 6,
   "metadata": {},
   "outputs": [
    {
     "name": "stdout",
     "output_type": "stream",
     "text": [
      "Digite um texto para ser convertido para leet: teste\n",
      "None\n"
     ]
    }
   ],
   "source": [
    "texto = str(input('Digite um texto para ser convertido para leet: ').upper())\n",
    "leet_dict = {'A':'4','B':'8','C':'[','D':'|))','E':'3','F':'|=','G':'6','H':'#','I':'1','J':'j','K':'X','L':'1_','M':'|v|',\n",
    "            'N':'//.','O':'0','P':'|^','Q':'q','R':'|2','S':'5','T':'+','U':'|_|','V':'\\/','W':'\\/\\/','X':'><','Y':'¥','Z':'2'}\n",
    "\n",
    "print(test(texto))"
   ]
  },
  {
   "cell_type": "code",
   "execution_count": 9,
   "metadata": {},
   "outputs": [
    {
     "name": "stdout",
     "output_type": "stream",
     "text": [
      "Digite um texto para ser convertido para leet: Isso e um teste blabla\n",
      "1550 3 |_||v| +35+3 81_481_4\n"
     ]
    }
   ],
   "source": [
    "#exercicio12 usando loop e replace\n",
    "texto = str(input('Digite um texto para ser convertido para leet: ').upper())\n",
    "leet_dict = {'A':'4','B':'8','C':'[','D':'|))','E':'3','F':'|=','G':'6','H':'#','I':'1','J':'j','K':'X','L':'1_','M':'|v|',\n",
    "            'N':'//.','O':'0','P':'|^','Q':'q','R':'|2','S':'5','T':'+','U':'|_|','V':'\\/','W':'\\/\\/','X':'><','Y':'¥','Z':'2'}\n",
    "for key, value in leet_dict.items(): \n",
    "    texto = texto.replace(key, value)\n",
    "\n",
    "print(texto)"
   ]
  },
  {
   "cell_type": "markdown",
   "metadata": {},
   "source": [
    "13 Crie um programa que recebe uma lista de números e\n",
    "- retorne o maior elemento\n",
    "- retorne a soma dos elementos\n",
    "- retorne o número de ocorrências do primeiro elemento da lista\n",
    "- retorne a média dos elementos\n",
    "- retorne o valor mais próximo da média dos elementos\n",
    "- retorne a soma dos elementos com valor negativo\n",
    "- retorne a quantidade de vizinhos iguais"
   ]
  },
  {
   "cell_type": "code",
   "execution_count": 3,
   "metadata": {},
   "outputs": [
    {
     "name": "stdout",
     "output_type": "stream",
     "text": [
      "Digite uma lista de numeros separados por virgula:1,2,3,3,4,5\n",
      "Maior elemento:  5\n",
      "Soma dos elementos:  18\n",
      "Numero de vezes que o primeiro elemento da lista aparece:  1\n",
      "Media:  3.0\n",
      "Arredondamento da média:  3\n",
      "Soma dos numeros negativos: 0\n",
      "Numero de vizinhos iguais:  1\n"
     ]
    }
   ],
   "source": [
    "lista = [int(x) for x in input('Digite uma lista de numeros separados por virgula:').split(',')]\n",
    "\n",
    "print('Maior elemento: ',max(lista,key=int))\n",
    "soma = 0\n",
    "for num in lista:\n",
    "    soma+=num\n",
    "print('Soma dos elementos: ',soma)\n",
    "print('Numero de vezes que o primeiro elemento da lista aparece: ',lista.count(lista[0]))\n",
    "media = soma / len(lista)\n",
    "print('Media: ',media)\n",
    "print('Arredondamento da média: ',round(media))\n",
    "soma2 = 0\n",
    "for num in lista:\n",
    "    if num < 0:\n",
    "        soma2 +=num\n",
    "print('Soma dos numeros negativos:', soma2)\n",
    "vizinho = 0\n",
    "anterior = lista[0]+1\n",
    "for num in lista:\n",
    "    if num == anterior:\n",
    "        vizinho += 1\n",
    "    anterior = num\n",
    "print('Numero de vizinhos iguais: ',vizinho)"
   ]
  },
  {
   "cell_type": "markdown",
   "metadata": {},
   "source": [
    "14 Faça um programa que receba duas listas e retorne True se são iguais ou False\n",
    "caso contrario.\n",
    "Duas listas são iguais se possuem os mesmos valores e na mesma ordem."
   ]
  },
  {
   "cell_type": "code",
   "execution_count": 14,
   "metadata": {},
   "outputs": [
    {
     "name": "stdout",
     "output_type": "stream",
     "text": [
      "Digite uma lista de numeros separados por virgula:1,2,3\n",
      "Digite uma lista de numeros separados por virgula:1,2,3\n",
      "Lista 1:  [1, 2, 3]\n",
      "Lista 2:  [1, 2, 3]\n",
      "True\n"
     ]
    }
   ],
   "source": [
    "lista = [int(x) for x in input('Digite uma lista de numeros separados por virgula:').split(',')]\n",
    "lista2 = [int(x) for x in input('Digite uma lista de numeros separados por virgula:').split(',')]\n",
    "print('Lista 1: ',lista)\n",
    "print('Lista 2: ',lista2)\n",
    "def comparador(lista,lista2):\n",
    "    if lista == lista2:\n",
    "        return True\n",
    "    else:\n",
    "        return False\n",
    "print(comparador(lista,lista2))"
   ]
  },
  {
   "cell_type": "markdown",
   "metadata": {},
   "source": [
    "15 Faça um programa que receba duas listas e retorne True se têm os mesmos\n",
    "elementos ou False caso contrário\n",
    "Duas listas possuem os mesmos elementos quando são compostas pelos mesmos\n",
    "valores, mas não obrigatoriamente na mesma ordem."
   ]
  },
  {
   "cell_type": "code",
   "execution_count": 7,
   "metadata": {},
   "outputs": [
    {
     "name": "stdout",
     "output_type": "stream",
     "text": [
      "Digite uma lista de numeros separados por virgula:1,2,3,4,5\n",
      "Digite uma outra lista de numeros separados por virgula:5,4,3,2,1\n",
      "Lista 1:  [1, 2, 3, 4, 5]\n",
      "Lista 2:  [5, 4, 3, 2, 1]\n",
      "True\n",
      "5\n"
     ]
    }
   ],
   "source": [
    "lista = [int(x) for x in input('Digite uma lista de numeros separados por virgula:').split(',')]\n",
    "lista2 = [int(x) for x in input('Digite uma outra lista de numeros separados por virgula:').split(',')]\n",
    "print('Lista 1: ',lista)\n",
    "print('Lista 2: ',lista2)\n",
    "l = len(set(lista).intersection(lista2))\n",
    "def comparador(lista,lista2):\n",
    "    if l == len(lista) and l == len(lista2):\n",
    "        return True\n",
    "    else:\n",
    "        return False\n",
    "print(comparador(lista,lista2))"
   ]
  },
  {
   "cell_type": "markdown",
   "metadata": {},
   "source": [
    "16 Faça um programa que percorre uma lista com o seguinte formato: [['Brasil', 'Italia', [10, 9]], ['Brasil', 'Espanha', [5, 7]], ['Italia', 'Espanha', [7,8]]]. Essa lista indica o número de faltas que cada time fez em cada jogo. Na lista acima, no jogo entre Brasil e Itália, o Brasil fez 10 faltas e a Itália fez 9.\n",
    "O programa deve imprimir na tela:\n",
    "- o total de faltas do campeonato\n",
    "- o time que fez mais faltas\n",
    "- o time que fez menos faltas"
   ]
  },
  {
   "cell_type": "code",
   "execution_count": 22,
   "metadata": {},
   "outputs": [
    {
     "name": "stdout",
     "output_type": "stream",
     "text": [
      "Total de faltas: 46\n",
      "País mais faltoso: ['Italia', 16]\n",
      "País menos faltoso: ['Brasil', 15]\n"
     ]
    }
   ],
   "source": [
    "faltas = [['Brasil', 'Italia' ,[10,9]],\n",
    "          ['Brasil', 'Espanha',[5,7]],\n",
    "          ['Italia', 'Espanha',[7,8]]]\n",
    "print('Total de faltas:', faltas[0][2][0]+faltas[0][2][1]+\n",
    "faltas[1][2][0]+faltas[1][2][1]+\n",
    "faltas[2][2][0]+faltas[2][2][1])\n",
    "pais = [['Brasil',faltas[0][2][0]+faltas[1][2][0]],\n",
    "        ['Italia',faltas[0][2][1]+faltas[2][2][0]],\n",
    "        ['Espanha', faltas[1][2][1]+faltas[2][2][1]]]\n",
    "print('País mais faltoso:', max(pais))\n",
    "print('País menos faltoso:', min(pais))"
   ]
  },
  {
   "cell_type": "markdown",
   "metadata": {},
   "source": [
    "17 Escreva um programa que conta a quantidade de vogais em uma string e\n",
    "armazena tal quantidade em um dicionário, onde a chave é a vogal considerada."
   ]
  },
  {
   "cell_type": "code",
   "execution_count": 2,
   "metadata": {},
   "outputs": [
    {
     "name": "stdout",
     "output_type": "stream",
     "text": [
      "Digite uma palavra ou frase: teste\n",
      "{'a': 0, 'e': 2, 'i': 0, 'o': 0, 'u': 0}\n"
     ]
    }
   ],
   "source": [
    "s = str(input('Digite uma palavra ou frase: '))\n",
    "vogais = ['a', 'e', 'i', 'o', 'u']\n",
    "totais = {vogais[0]: s.count(vogais[0]),\n",
    "          vogais[1]: s.count(vogais[1]),\n",
    "          vogais[2]: s.count(vogais[2]),\n",
    "          vogais[3]: s.count(vogais[3]),\n",
    "          vogais[4]: s.count(vogais[4])}\n",
    "print(totais)"
   ]
  },
  {
   "cell_type": "markdown",
   "metadata": {},
   "source": [
    "18 Escreva um programa que lê̂ duas notas de vários alunos e armazena tais notas\n",
    "em um dicionário, onde a chave é o nome do aluno. A entrada de dados deve\n",
    "terminar quando for lida uma string vazia como nome. Escreva uma função que\n",
    "retorna a média do aluno, dado seu nome."
   ]
  },
  {
   "cell_type": "code",
   "execution_count": 19,
   "metadata": {},
   "outputs": [
    {
     "name": "stdout",
     "output_type": "stream",
     "text": [
      "Digite o nome do aluno: leonardo\n",
      "Digite as duas notas do aluno separados por virgula:1,7\n",
      "Digite o nome do aluno: \n",
      "Lista de alunos e suas notas:  {'leonardo': [1.0, 7.0]}\n",
      "Digite o aluno que deseja visualizar a nota: leonardo\n",
      "Média do aluno leonardo:  4.0\n"
     ]
    }
   ],
   "source": [
    "dict_aluno = {}\n",
    "aluno = ' '\n",
    "while aluno != '':\n",
    "    aluno = str(input('Digite o nome do aluno: '))\n",
    "    if aluno != '':\n",
    "        notas = [float(x) for x in input('Digite as duas notas do aluno separados por virgula:').split(',')]\n",
    "        dict_aluno[aluno] = notas\n",
    "print('Lista de alunos e suas notas: ',dict_aluno)\n",
    "def calculo_media(nome):\n",
    "    media = (dict_aluno[nome][0]+dict_aluno[nome][1])/2\n",
    "    return media\n",
    "a = str(input('Digite o aluno que deseja visualizar a nota: '))\n",
    "print(f'Média do aluno {a}: ',calculo_media(a))"
   ]
  },
  {
   "cell_type": "markdown",
   "metadata": {},
   "source": [
    "19 Uma pista de Kart permite 10 voltas para cada um de 6 corredores. Escreva um\n",
    "programa que leia todos os tempos em segundos e os guarde em um dicionário,\n",
    "onde a chave é o nome do corredor. Ao final diga de quem foi a melhor volta da\n",
    "prova e em que volta; e ainda a classificação final em ordem (1o o campeão). O\n",
    "campeão é o que tem a menor média de tempos.\n"
   ]
  },
  {
   "cell_type": "code",
   "execution_count": 27,
   "metadata": {},
   "outputs": [
    {
     "name": "stdout",
     "output_type": "stream",
     "text": [
      "1° lugar: Lucas - 55.0 segs.\n",
      "2° lugar: Jose - 59.2 segs.\n",
      "3° lugar: Rogerio - 60.0 segs.\n",
      "4° lugar: Leonardo - 61.9 segs.\n",
      "5° lugar: Wilson - 64.1 segs.\n",
      "6° lugar: Neymar - 70.0 segs.\n"
     ]
    },
    {
     "ename": "TypeError",
     "evalue": "'int' object is not iterable",
     "output_type": "error",
     "traceback": [
      "\u001b[1;31m---------------------------------------------------------------------------\u001b[0m",
      "\u001b[1;31mTypeError\u001b[0m                                 Traceback (most recent call last)",
      "\u001b[1;32m<ipython-input-27-0ba96b79d3ae>\u001b[0m in \u001b[0;36m<module>\u001b[1;34m\u001b[0m\n\u001b[0;32m     31\u001b[0m \u001b[1;33m\u001b[0m\u001b[0m\n\u001b[0;32m     32\u001b[0m \u001b[1;32mfor\u001b[0m \u001b[0mi\u001b[0m \u001b[1;32min\u001b[0m \u001b[0mkart_dict\u001b[0m\u001b[1;33m:\u001b[0m\u001b[1;33m\u001b[0m\u001b[1;33m\u001b[0m\u001b[0m\n\u001b[1;32m---> 33\u001b[1;33m     \u001b[0mmenor\u001b[0m \u001b[1;33m=\u001b[0m \u001b[1;33m[\u001b[0m\u001b[0mmin\u001b[0m\u001b[1;33m(\u001b[0m\u001b[0mkart_dict\u001b[0m\u001b[1;33m[\u001b[0m\u001b[0mi\u001b[0m\u001b[1;33m]\u001b[0m\u001b[1;33m[\u001b[0m\u001b[1;36m0\u001b[0m\u001b[1;33m]\u001b[0m\u001b[1;33m)\u001b[0m\u001b[1;33m]\u001b[0m\u001b[1;33m\u001b[0m\u001b[1;33m\u001b[0m\u001b[0m\n\u001b[0m\u001b[0;32m     34\u001b[0m \u001b[1;33m\u001b[0m\u001b[0m\n\u001b[0;32m     35\u001b[0m \u001b[1;31m#incompleto terminar, falta somar tempo e botar em ordem e descobrir de quem é o menor tempo\u001b[0m\u001b[1;33m\u001b[0m\u001b[1;33m\u001b[0m\u001b[1;33m\u001b[0m\u001b[0m\n",
      "\u001b[1;31mTypeError\u001b[0m: 'int' object is not iterable"
     ]
    }
   ],
   "source": [
    "import operator\n",
    "kart_dict = {\"Leonardo\": [57, 56, 62, 56, 61, 70, 55, 58, 79, 65],\n",
    "    \"Jose\": [56, 59, 60, 63, 55, 58, 69, 54, 53, 65],\n",
    "    \"Neymar\": [70, 70, 70, 70, 70, 70, 70, 70, 70, 70],\n",
    "    \"Rogerio\": [60, 60, 60, 60, 60, 60, 60, 60, 60, 60],\n",
    "    \"Lucas\": [55,55,55,55,55,55,55,55,55,55],\n",
    "    \"Wilson\": [65,65,65,65,65,65,65,56,65,65]}\n",
    "#kart_dict = {}\n",
    "#cont = 0val\n",
    "#while cont < 6:\n",
    "#    cont += 1\n",
    "#    corredor = str(input('Digite o nome do corredor: '))\n",
    "#    tempo = [int(x) for x in input('Digite os tempos das 10 voltas do corredor separado por virgula: ').split(',')]\n",
    "#    kart_dict[corredor] = tempo\n",
    "soma = 0\n",
    "media = {}\n",
    "nome = ''\n",
    "melhorTempo = kart_dict[\"Leonardo\"][0]\n",
    "for chave in kart_dict:\n",
    "    soma = 0\n",
    "    for num in kart_dict[chave]:\n",
    "        if num < melhorTempo:\n",
    "            melhorTempo = num\n",
    "            nome = chave\n",
    "        soma += num\n",
    "    medias[chave] = soma / 10\n",
    "\n",
    "sort = sorted(medias.items(), key=operator.itemgetter(1))   \n",
    "for i in range(0, 6):\n",
    "    print(\"%s° lugar: %s - %s segs.\" % (i + 1, sort[i][0], sort[i][1]))\n",
    "\n",
    "#for i in kart_dict:\n",
    "   # menor = [min(kart_dict[i][0])]\n",
    "    \n",
    "#incompleto, nao consegui exibir o menor numero"
   ]
  },
  {
   "cell_type": "markdown",
   "metadata": {},
   "source": [
    "20 Escreva um programa para armazenar uma agenda de telefones em um\n",
    "dicionário. Cada pessoa pode ter um ou mais telefones e a chave do dicionário é o\n",
    "nome da pessoa. Seu programa deve ter as seguintes funções:\n",
    "- incluirNovoNome – essa função acrescenta um novo nome na agenda, com um ou\n",
    "mais telefones. Ela deve receber como argumentos o nome e os telefones.\n",
    "- incluirTelefone – essa função acrescenta um telefone em um nome existente na\n",
    "agenda. Caso o nome não exista na agenda, você̂ deve perguntar se a pessoa deseja\n",
    "inclui-lo. Caso a resposta seja afirmativa, use a função anterior para incluir o novo\n",
    "nome.\n",
    "- excluirTelefone – essa função exclui um telefone de uma pessoa que já está na\n",
    "agenda. Se a pessoa tiver apenas um telefone, ela deve ser excluída da agenda.\n",
    "- excluirNome – essa função exclui uma pessoa da agenda.\n",
    "- consultarTelefone – essa função retorna os telefones de uma pessoa na agenda."
   ]
  },
  {
   "cell_type": "code",
   "execution_count": 1,
   "metadata": {},
   "outputs": [
    {
     "name": "stdout",
     "output_type": "stream",
     "text": [
      "Digite a opcao desejada: \n",
      "1 - Incluir um novo contato na agenda     \n",
      "2 - Incluir um telefone a um contato existente\n",
      "3 - Excluir um telefone de um contato existente    \n",
      "4 - Excluir um contato existente\n",
      "5 - Consultar dados de um contato existente\n",
      "0 - Sair do programa1\n",
      "Digite o nome: Leonardo\n",
      "Digite os numeros de telefone separados por virgula: 11-95983-3437,11-2295-9143\n",
      "Digite a opcao desejada: \n",
      "1 - Incluir um novo contato na agenda     \n",
      "2 - Incluir um telefone a um contato existente\n",
      "3 - Excluir um telefone de um contato existente    \n",
      "4 - Excluir um contato existente\n",
      "5 - Consultar dados de um contato existente\n",
      "0 - Sair do programa5\n",
      "Digite o nome do contato que deseja consultar: Leonardo\n",
      "Telefones para contato de Leonardo:  ['11-95983-3437', '11-2295-9143']\n",
      "Digite a opcao desejada: \n",
      "1 - Incluir um novo contato na agenda     \n",
      "2 - Incluir um telefone a um contato existente\n",
      "3 - Excluir um telefone de um contato existente    \n",
      "4 - Excluir um contato existente\n",
      "5 - Consultar dados de um contato existente\n",
      "0 - Sair do programa7\n",
      "Digite a opcao desejada: \n",
      "1 - Incluir um novo contato na agenda     \n",
      "2 - Incluir um telefone a um contato existente\n",
      "3 - Excluir um telefone de um contato existente    \n",
      "4 - Excluir um contato existente\n",
      "5 - Consultar dados de um contato existente\n",
      "0 - Sair do programa0\n"
     ]
    }
   ],
   "source": [
    "agenda_dict = {}\n",
    "nome = ''\n",
    "telefones = []\n",
    "def incluirNovoNome(nome,telefones):\n",
    "    agenda_dict[nome] = telefones\n",
    "def incluirTelefone(nome,telefone):\n",
    "    if nome in agenda_dict.keys():\n",
    "        agenda[nome].append(telefone)\n",
    "    else:\n",
    "        a = input('Esse nome não está na lista, deseja adiciona-lo? sim/nao')\n",
    "        if a == 'sim':\n",
    "            telefones = [telefone]\n",
    "            incluirNovoNome(nome,telefones)\n",
    "def excluirTelefone(nome,telefone):\n",
    "    if nome in agenda_dict.keys():\n",
    "        if len(agenda_dict[nome]) == 1:\n",
    "            del(agenda_dict[nome])\n",
    "        else:\n",
    "            for i in range(0,len(agenda_dict[nome])-1):\n",
    "                if telefone == agenda_dict[nome][i]:\n",
    "                    agenda_dict[nome].pop(i)\n",
    "def excluirNome(nome):\n",
    "    if nome in agenda_dict.keys():\n",
    "        del(agenda_dict[nome])\n",
    "        print('Contado excluido')\n",
    "    else:\n",
    "        print('Contato inexistente')\n",
    "def consultarTelefone(nome):\n",
    "    if nome in agenda_dict.keys():\n",
    "        print(f'Telefones para contato de {nome}: ',agenda_dict[nome])\n",
    "opcao = -1\n",
    "while opcao!= 0:\n",
    "    opcao = int(input('Digite a opcao desejada: \\n1 - Incluir um novo contato na agenda \\\n",
    "    \\n2 - Incluir um telefone a um contato existente\\n3 - Excluir um telefone de um contato existente\\\n",
    "    \\n4 - Excluir um contato existente\\n5 - Consultar dados de um contato existente\\n0 - Sair do programa'))\n",
    "    if opcao == 1:\n",
    "        nome = str(input('Digite o nome: '))\n",
    "        telefones = [str(x) for x in input('Digite os numeros de telefone separados por virgula: ').split(',')]\n",
    "        incluirNovoNome(nome,telefones)\n",
    "    elif opcao == 2:\n",
    "        nome = str(input('Digite o nome: '))\n",
    "        telefone = str(input('Digite o numero de telefone que deseja adicionar: '))\n",
    "        incluirTelefone(nome,telefone)\n",
    "    elif opcao == 3:\n",
    "        nome = str(input('Digite o nome: '))\n",
    "        telefone = str(input('Digite o numero de telefone que deseja excluir: '))\n",
    "        excluirTelefone(nome,telefone)\n",
    "    elif opcao == 4:\n",
    "        nome = str(input('Digite o nome do contato que deseja excluir: '))\n",
    "        excluirNome(nome)\n",
    "    elif opcao == 5:\n",
    "        nome = str(input('Digite o nome do contato que deseja consultar: '))\n",
    "        consultarTelefone(nome)\n",
    "    elif opcao < 0 and opcao > 5:\n",
    "        print('Opção inválida')"
   ]
  },
  {
   "cell_type": "markdown",
   "metadata": {},
   "source": [
    "21 Faça um programa que leia um arquivo texto contendo uma lista de endereços IP\n",
    "e gere um outro arquivo, contendo um relatório dos endereços IP válidos e inválidos.\n",
    "O arquivo de entrada possui o seguinte formato:\n",
    "- 200.135.80.9\n",
    "- 192.168.1.1\n",
    "- 8.35.67.74\n",
    "- 257.32.4.5\n",
    "- 85.345.1.2\n",
    "- 1.2.3.4\n",
    "- 9.8.234.5\n",
    "- 192.168.0.256<br>\n",
    "O arquivo de saída possui o seguinte formato:<br>\n",
    "[Endereços válidos:]<br>\n",
    "- 200.135.80.9\n",
    "- 192.168.1.1\n",
    "- 8.35.67.74\n",
    "- 1.2.3.4<br>\n",
    "[Endereços inválidos:]<br>\n",
    "- 257.32.4.5\n",
    "- 85.345.1.2\n",
    "- 9.8.234.5\n",
    "- 192.168.0.256"
   ]
  },
  {
   "cell_type": "code",
   "execution_count": 7,
   "metadata": {},
   "outputs": [
    {
     "name": "stdout",
     "output_type": "stream",
     "text": [
      "[Endereços válidos]\n",
      "200.135.80.9\n",
      "192.168.1.1\n",
      "8.35.67.74\n",
      "1.2.3.4\n",
      "9.8.234.5\n",
      "[Endereços inválidos]\n",
      "257.32.4.5\n",
      "85.345.1.2\n",
      "192.168.0.256\n"
     ]
    }
   ],
   "source": [
    "valido = list()\n",
    "invalido = list()\n",
    "for ip in open('lista_ip.txt', 'r'):\n",
    "    l_ip = ip.split('.')\n",
    "    #a função map aplica uma função (no caso, int) sobre\n",
    "    #cada elemento da lista\n",
    "    l_ip = list(map(int,l_ip))\n",
    "    if len(l_ip) != 4:\n",
    "        invalido.append(l_ip)\n",
    "    else:\n",
    "        for i in l_ip:\n",
    "            if i < 0 or i > 255:\n",
    "                invalido.append(l_ip)\n",
    "                break\n",
    "        else:\n",
    "            valido.append(l_ip)   \n",
    "print('[Endereços válidos]')\n",
    "for i in valido:\n",
    "    print(f'{i[0]}.{i[1]}.{i[2]}.{i[3]}')\n",
    "print('[Endereços inválidos]')\n",
    "for i in invalido:\n",
    "    print(f'{i[0]}.{i[1]}.{i[2]}.{i[3]}')"
   ]
  },
  {
   "cell_type": "markdown",
   "metadata": {},
   "source": [
    "22 A ACME Inc., uma empresa de 500 funcionários, está tendo problemas de espaço\n",
    "em disco no seu servidor de arquivos. Para tentar resolver este problema, o\n",
    "Administrador de Rede precisa saber qual o espaço ocupado pelos usuários, e\n",
    "identificar os usuários com maior espaço ocupado. Através de um programa, baixado\n",
    "da Internet, ele conseguiu gerar o seguinte arquivo, chamado \"usuarios.txt\":\n",
    "alexandre 456123789\n",
    "anderson 1245698456\n",
    "antonio 123456456\n",
    "carlos 91257581\n",
    "cesar 987458\n",
    "rosemary 789456125\n",
    "Neste arquivo, o nome do usuário possui 15 caracteres. A partir deste arquivo, você\n",
    "deve criar um programa que gere um relatório, chamado \"relatório.txt\", no seguinte\n",
    "formato:\n",
    "ACME Inc. Uso do espaço em disco pelos usuários\n",
    "--------------------------------------------------------------\n",
    "----------\n",
    "Nr. Usuário Espaço utilizado % do uso\n",
    "1 alexandre 434,99 MB 16,85%\n",
    "2 anderson 1187,99 MB 46,02%\n",
    "3 antonio 117,73 MB 4,56%\n",
    "4 carlos 87,03 MB 3,37%\n",
    "5 cesar 0,94 MB 0,04%\n",
    "6 rosemary 752,88 MB 29,16%\n",
    "Espaço total ocupado: 2581,57 MB\n",
    "Espaço médio ocupado: 430,26 MB\n",
    "O arquivo de entrada deve ser lido uma única vez, e os dados armazenados em\n",
    "memória, caso sejam necessários, de forma a agilizar a execução do programa. A\n",
    "conversão da espaço ocupado em disco, de bytes para megabytes deverá ser feita\n",
    "através de uma função separada, que será chamada pelo programa principal. O\n",
    "cálculo do percentual de uso também deverá ser feito através de uma função, que\n",
    "será chamada pelo programa principal."
   ]
  },
  {
   "cell_type": "code",
   "execution_count": 4,
   "metadata": {},
   "outputs": [],
   "source": [
    "def converteMb(tamanho):\n",
    "    return float(tamanho / (1024*1024))\n",
    "\n",
    "def usoMemoria(tamanho, total):\n",
    "    return float(tamanho / total) * 100\n",
    "\n",
    "dict = {}\n",
    "total = 0\n",
    "usuarios = open(\"usuarios.txt\")\n",
    "for usuario in usuarios:\n",
    "    nome, memoria = usuario.split(\" \")\n",
    "    dic[nome] = int(memoria)\n",
    "    total += int(memoria)\n",
    "usuarios.close()\n",
    "media = total / len(dic.keys())\n",
    "relatorio = open(\"relatório.txt\", \"w+\")\n",
    "relatorio.write(\"ACME Inc.               Uso do espaço em disco pelos usuários.\\n\")\n",
    "relatorio.write(\"Nr.\\tUsuário \\tEspaço utilizado\\t% do uso\\n\")\n",
    "n = 1\n",
    "for usuario in dic:\n",
    "    relatorio.write(str(n) + \"\\t\" + usuario + \"\\t\" + \"{0:.2f}\".format(converteMb(dic[usuario])) + \" MB\\t\\t\" + \"{0:.2f}\".format(usoMemoria(dic[usuario], total)) + \"%\\n\")\n",
    "    n += 1    \n",
    "relatorio.write(\"Espaço total ocupado: \" + \"{0:.2f}\".format(converteMb(total)) + \"\\n\")\n",
    "relatorio.write(\"Espaço médio ocupado: \" + \"{0:.2f}\".format(converteMb(media)))\n",
    "relatorio.close()"
   ]
  }
 ],
 "metadata": {
  "kernelspec": {
   "display_name": "Python 3",
   "language": "python",
   "name": "python3"
  },
  "language_info": {
   "codemirror_mode": {
    "name": "ipython",
    "version": 3
   },
   "file_extension": ".py",
   "mimetype": "text/x-python",
   "name": "python",
   "nbconvert_exporter": "python",
   "pygments_lexer": "ipython3",
   "version": "3.7.3"
  }
 },
 "nbformat": 4,
 "nbformat_minor": 2
}
